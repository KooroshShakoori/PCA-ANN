{
 "cells": [
  {
   "cell_type": "code",
   "execution_count": 1,
   "id": "90de8b6d-ddfe-4606-b98c-47895ce6fb11",
   "metadata": {},
   "outputs": [
    {
     "name": "stderr",
     "output_type": "stream",
     "text": [
      "/home/kooloosh/anaconda3/envs/py37/lib/python3.7/site-packages/tensorflow_addons/utils/ensure_tf_install.py:67: UserWarning: Tensorflow Addons supports using Python ops for all Tensorflow versions above or equal to 2.6.0 and strictly below 2.9.0 (nightly versions are not supported). \n",
      " The versions of TensorFlow you are currently using is 2.4.1 and is not supported. \n",
      "Some things might work, some things might not.\n",
      "If you were to encounter a bug, do not file an issue.\n",
      "If you want to make sure you're using a tested and supported configuration, either change the TensorFlow version or the TensorFlow Addons's version. \n",
      "You can find the compatibility matrix in TensorFlow Addon's readme:\n",
      "https://github.com/tensorflow/addons\n",
      "  UserWarning,\n"
     ]
    }
   ],
   "source": [
    "#this notebook includes making different models, testing them, and making predictions\n",
    "#the necessary libraries are imported below\n",
    "import pandas as pd\n",
    "import numpy as np\n",
    "from sklearn.preprocessing import StandardScaler\n",
    "from sklearn.compose import make_column_transformer\n",
    "from sklearn.model_selection import train_test_split\n",
    "from tensorflow import keras\n",
    "from tensorflow.keras import backend as K\n",
    "import tensorflow_addons as tfa\n",
    "from tensorflow.keras import layers\n",
    "from tensorflow.keras import callbacks\n",
    "from tensorflow.keras.callbacks import EarlyStopping\n",
    "from tensorflow.keras.models import load_model"
   ]
  },
  {
   "cell_type": "code",
   "execution_count": 2,
   "id": "1f009169-b8ae-4089-9d3a-a046f34dbc32",
   "metadata": {},
   "outputs": [],
   "source": [
    "#data prepration steps including reading the files, splitting it into train and test and at last standardizing it\n",
    "#this list provides the name of the chosen columns\n",
    "pr_pca = ['clwvi(1)', 'zg0(1)', 'hur6(1)', 'vas(2)', 'uas(2)', 'hus0(3)']\n",
    "#reading the csv files using pandas and making the required dataset for our use\n",
    "X = pd.read_csv('data/allpoints.csv')\n",
    "X = X.loc[:, pr_pca]\n",
    "y = pd.read_csv('data/y_pr.csv')\n",
    "\n",
    "#splitting the data into train and test datasets for further prepration and modeling with the test size of 0.25\n",
    "X_train, X_test, y_train, y_test = train_test_split(X, y, test_size=0.25, random_state=None)\n",
    "\n",
    "#scaling the data in a fashion to prevent leakage\n",
    "scaler_X = StandardScaler()\n",
    "X_train = scaler_X.fit_transform(X_train)\n",
    "X_test = scaler_X.transform(X_test)\n",
    "\n",
    "scaler_y = StandardScaler()\n",
    "y_train = scaler_y.fit_transform(y_train)\n",
    "y_test = scaler_y.transform(y_test)"
   ]
  },
  {
   "cell_type": "code",
   "execution_count": 3,
   "id": "9d1c2f58-fd5a-4ea8-9266-f9c8f3039afa",
   "metadata": {},
   "outputs": [],
   "source": [
    "#defining accuracy measure functions to test out the models\n",
    "def DC(y_true, y_pred):\n",
    "    y_true = np.array(y_true, dtype=np.float32)[:, 0]\n",
    "    y_pred = np.array(y_pred, dtype=np.float32)[:, 0]\n",
    "    metric = tfa.metrics.r_square.RSquare()\n",
    "    metric.update_state(y_true, y_pred)\n",
    "    result = metric.result()\n",
    "    return result.numpy()\n",
    "def root_mean_squared_error(y_true, y_pred):\n",
    "    return K.sqrt(K.mean(K.square(y_pred - y_true)))"
   ]
  },
  {
   "cell_type": "code",
   "execution_count": 5,
   "id": "4969cf0e-ea9d-4e76-b082-c3fb8f12825d",
   "metadata": {},
   "outputs": [
    {
     "name": "stderr",
     "output_type": "stream",
     "text": [
      "2022-05-14 12:34:25.576307: I tensorflow/compiler/jit/xla_cpu_device.cc:41] Not creating XLA devices, tf_xla_enable_xla_devices not set\n",
      "2022-05-14 12:34:25.577676: I tensorflow/core/platform/cpu_feature_guard.cc:142] This TensorFlow binary is optimized with oneAPI Deep Neural Network Library (oneDNN) to use the following CPU instructions in performance-critical operations:  SSE4.1 SSE4.2 AVX AVX2 FMA\n",
      "To enable them in other operations, rebuild TensorFlow with the appropriate compiler flags.\n",
      "2022-05-14 12:34:25.579652: I tensorflow/core/common_runtime/process_util.cc:146] Creating new thread pool with default inter op setting: 2. Tune using inter_op_parallelism_threads for best performance.\n",
      "2022-05-14 12:34:25.732501: I tensorflow/compiler/mlir/mlir_graph_optimization_pass.cc:116] None of the MLIR optimization passes are enabled (registered 2)\n",
      "2022-05-14 12:34:25.740767: I tensorflow/core/platform/profile_utils/cpu_utils.cc:112] CPU Frequency: 2807995000 Hz\n"
     ]
    },
    {
     "name": "stdout",
     "output_type": "stream",
     "text": [
      "    val_RMSE    val_DC  train_RMSE  train_DC  epochs\n",
      "0  18.906971  0.312354   18.858053  0.350747      94\n"
     ]
    }
   ],
   "source": [
    "#creating the desired model\n",
    "#the while loop below is designed to run different networks with similar attributes\n",
    "#this yields in achieving the best performing model\n",
    "#the conditions include the DC value for train and validation datasets\n",
    "dc_v = 0.0\n",
    "dc_t = 0.0\n",
    "while dc_v <= 0.31 or dc_t < dc_v:\n",
    "    #the model consists of the activation function of tanh and the neuron counts can be modified easily\n",
    "    model = keras.Sequential([\n",
    "        layers.Dense(8, activation='tanh', input_shape=[X_train.shape[1]]),\n",
    "        layers.Dense(1)\n",
    "    ])\n",
    "    \n",
    "    #the line below specifies an optimizer and loss function for the model\n",
    "    model.compile(\n",
    "        optimizer='adam',\n",
    "        loss='mse'\n",
    "    )\n",
    "\n",
    "    data = {\n",
    "            'val_RMSE' : [],\n",
    "            'val_DC' :[],\n",
    "            'train_RMSE' : [],\n",
    "            'train_DC' : [],\n",
    "            'epochs' : []\n",
    "    }\n",
    "    \n",
    "    #this object will help preventing useless training epochs, also reduces the chance of under training\n",
    "    early_stopping = EarlyStopping(\n",
    "                min_delta=0.001,\n",
    "                patience=30,\n",
    "                restore_best_weights=True\n",
    "    )\n",
    "    \n",
    "    #fitting the model to train datasets with 16 sized batches\n",
    "    #note that 1000 epochs here is just to give some freedom to the early stopping method\n",
    "    hist = model.fit(\n",
    "        X_train, y_train,\n",
    "        validation_data=(X_test, y_test),\n",
    "        batch_size=16,\n",
    "        epochs=1000,\n",
    "        callbacks=[early_stopping],\n",
    "        verbose=0\n",
    "    )\n",
    "    \n",
    "    #and this part calcutes the accuracy of the model\n",
    "    #it's worth noting that RMSE was calculatede after reversing the standardization of y\n",
    "    y_pred = model.predict(X_test)\n",
    "    y_pred_train = model.predict(X_train)\n",
    "    hist_df = pd.DataFrame(hist.history)\n",
    "    data['val_RMSE'].append(float(root_mean_squared_error((scaler_y.inverse_transform(y_test)), (scaler_y.inverse_transform(y_pred)))))\n",
    "    data['val_DC'].append(DC(y_test, y_pred))\n",
    "    data['train_RMSE'].append(float(root_mean_squared_error((scaler_y.inverse_transform(y_train)), (scaler_y.inverse_transform(y_pred_train)))))\n",
    "    data['train_DC'].append(DC(y_train, y_pred_train))\n",
    "    data['epochs'].append(len(hist.epoch))\n",
    "    \n",
    "    dc_v = float(data['val_DC'][0])\n",
    "    dc_t = float(data['train_DC'][0])\n",
    "print(pd.DataFrame(data))"
   ]
  },
  {
   "cell_type": "code",
   "execution_count": 9,
   "id": "46920a22-f3e1-4911-9c6e-dd38264c4cd9",
   "metadata": {},
   "outputs": [
    {
     "name": "stdout",
     "output_type": "stream",
     "text": [
      "Minimum Validation Loss: 0.6519516110420227\n"
     ]
    },
    {
     "data": {
      "image/png": "[encoded data removed]",
      "text/plain": [
       "<Figure size 432x288 with 1 Axes>"
      ]
     },
     "metadata": {
      "needs_background": "light"
     },
     "output_type": "display_data"
    }
   ],
   "source": [
    "#the figure below can help us preventing over and under training \n",
    "\n",
    "history_df = pd.DataFrame(hist.history)\n",
    "history_df.loc[:, ['loss', 'val_loss']].plot()\n",
    "print(f'Minimum Validation Loss: {history_df[\"val_loss\"].min()}')"
   ]
  },
  {
   "cell_type": "code",
   "execution_count": 7,
   "id": "a1ad1bf0-463d-49aa-8af5-1693deb3b2c9",
   "metadata": {},
   "outputs": [],
   "source": [
    "#we can save the model in the model folder with this piece of code and load it later on for predictions\n",
    "model.save('models/pr-pca.h5')\n",
    "\n",
    "#to load the load we use load_model module\n",
    "model = load_model('models/pr-pca.h5')"
   ]
  },
  {
   "cell_type": "code",
   "execution_count": 8,
   "id": "6416d034-1831-4986-a912-79c2d3a8f12f",
   "metadata": {},
   "outputs": [
    {
     "data": {
      "text/plain": [
       "0.32523495"
      ]
     },
     "execution_count": 8,
     "metadata": {},
     "output_type": "execute_result"
    }
   ],
   "source": [
    "#we should not forget after getting good results from the model\n",
    "#we need to train the model on validation sets as well\n",
    "#we do it while we keep track of DC so our model doesnt go out of tune\n",
    "\n",
    "hist_test = model.fit(\n",
    "        X_test, y_test,\n",
    "        batch_size=16,\n",
    "        epochs=10,\n",
    "        verbose=0\n",
    "    )\n",
    "\n",
    "y_pred = model.predict(X_test)\n",
    "y_pred_train = model.predict(X_train)\n",
    "dc = DC(y_test, y_pred)\n",
    "dc"
   ]
  },
  {
   "cell_type": "code",
   "execution_count": null,
   "id": "9e5d1764-8f5a-435f-a8aa-84ca209d8458",
   "metadata": {},
   "outputs": [],
   "source": [
    "#with loading the future scenarios we can start predicting the future\n",
    "#we also need to remember to standardize the predictors \n",
    "#after predicting we need to inverse scaling on predictions\n",
    "\n",
    "X_ssp245 = pd.read_csv('data/ssp245-pca-pr.csv')\n",
    "X_ssp245.columns = X.columns\n",
    "X_ssp245 = scaler_X.transform(X_ssp245)\n",
    "X_ssp585 = pd.read_csv('data/ssp585-pca-pr.csv')\n",
    "X_ssp585.columns = X.columns\n",
    "X_ssp585 = scaler_X.transform(X_ssp585)\n",
    "\n",
    "y_ssp245 = model.predict(X_ssp245)\n",
    "y_ssp585 = model.predict(X_ssp585)\n",
    "\n",
    "y_245unscaled = pd.Series(scaler_y.inverse_transform(y_ssp245)[:, 0], name='pr-245', index=None)\n",
    "y_585unscaled = pd.Series(scaler_y.inverse_transform(y_ssp585)[:, 0], name='pr-585', index=None)\n",
    "\n",
    "#we now save the predictons in output folder\n",
    "y_245unscaled.to_csv('output/prediction_pr_245.csv', index=False)\n",
    "y_585unscaled.to_csv('output/prediction_pr_585.csv', index=False)"
   ]
  },
  {
   "cell_type": "code",
   "execution_count": 10,
   "id": "f289b0c2-2648-429c-8a19-8cd84bb3de02",
   "metadata": {},
   "outputs": [
    {
     "data": {
      "text/plain": [
       "LinearRegression()"
      ]
     },
     "execution_count": 10,
     "metadata": {},
     "output_type": "execute_result"
    }
   ],
   "source": [
    "#in this part we run a MLR model for comparison purposes\n",
    "#the steps of data prepration is repeated here to prevent biases\n",
    "\n",
    "from sklearn import linear_model\n",
    "\n",
    "X = pd.read_csv('data/allpoints.csv')\n",
    "y = pd.read_csv('data/y_tm.csv')\n",
    "\n",
    "pr_pca =['clwvi(1)', 'zg0(1)', 'hur6(1)', 'vas(2)', 'uas(2)', 'hus0(3)']\n",
    "tm_pca = ['hurs(1)', 'clwvi(1)', 'psl(1)', 'tas(1)', 'va0(2)', 'ua2(4)']\n",
    "X = X.loc[:, tm_pca]\n",
    "X_train, X_test, y_train, y_test = train_test_split(X, y, test_size=0.25, shuffle=False)\n",
    "\n",
    "scaler_X = StandardScaler()\n",
    "X_train = scaler_X.fit_transform(X_train)\n",
    "X_test = scaler_X.transform(X_test)\n",
    "\n",
    "scaler_y = StandardScaler()\n",
    "y_train = scaler_y.fit_transform(y_train)\n",
    "y_test = scaler_y.transform(y_test)\n",
    "\n",
    "def DC(y_true, y_pred):\n",
    "    y_true = np.array(y_true, dtype=np.float32)[:, 0]\n",
    "    y_pred = np.array(y_pred, dtype=np.float32)[:, 0]\n",
    "    metric = tfa.metrics.r_square.RSquare()\n",
    "    metric.update_state(y_true, y_pred)\n",
    "    result = metric.result()\n",
    "    return result.numpy()\n",
    "\n",
    "regr = linear_model.LinearRegression()\n",
    "regr.fit(X_train, y_train)\n",
    "\n",
    "y_pred_train = regr.predict(X_train)\n",
    "y_pred_test = regr.predict(X_test)\n",
    "\n",
    "dc_train = DC(y_train, y_pred_train)\n",
    "dc_test = DC(y_test, y_pred_test)"
   ]
  }
 ],
 "metadata": {
  "kernelspec": {
   "display_name": "Python 3 (ipykernel)",
   "language": "python",
   "name": "python3"
  },
  "language_info": {
   "codemirror_mode": {
    "name": "ipython",
    "version": 3
   },
   "file_extension": ".py",
   "mimetype": "text/x-python",
   "name": "python",
   "nbconvert_exporter": "python",
   "pygments_lexer": "ipython3",
   "version": "3.7.11"
  }
 },
 "nbformat": 4,
 "nbformat_minor": 5
}
